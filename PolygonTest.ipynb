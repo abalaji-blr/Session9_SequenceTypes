{
  "nbformat": 4,
  "nbformat_minor": 0,
  "metadata": {
    "colab": {
      "name": "PolygonTest.ipynb",
      "provenance": [],
      "collapsed_sections": [],
      "authorship_tag": "ABX9TyMHYp3/ZditmydMLNPsN1xz",
      "include_colab_link": true
    },
    "kernelspec": {
      "name": "python3",
      "display_name": "Python 3"
    },
    "language_info": {
      "name": "python"
    }
  },
  "cells": [
    {
      "cell_type": "markdown",
      "metadata": {
        "id": "view-in-github",
        "colab_type": "text"
      },
      "source": [
        "<a href=\"https://colab.research.google.com/github/abalaji-blr/Session9_SequenceTypes/blob/main/PolygonTest.ipynb\" target=\"_parent\"><img src=\"https://colab.research.google.com/assets/colab-badge.svg\" alt=\"Open In Colab\"/></a>"
      ]
    },
    {
      "cell_type": "markdown",
      "source": [
        "# Polygon Test"
      ],
      "metadata": {
        "id": "MQWY54X8lCUj"
      }
    },
    {
      "cell_type": "markdown",
      "source": [
        "## Mount my modules "
      ],
      "metadata": {
        "id": "MjHebhXHlF0w"
      }
    },
    {
      "cell_type": "code",
      "execution_count": 1,
      "metadata": {
        "colab": {
          "base_uri": "https://localhost:8080/"
        },
        "id": "hrsKNMbekQIQ",
        "outputId": "ad2fa48c-cc51-4eaa-c36d-bc51599f8392"
      },
      "outputs": [
        {
          "output_type": "stream",
          "name": "stdout",
          "text": [
            "Mounted at /content/gdrive\n"
          ]
        }
      ],
      "source": [
        "from google.colab import drive\n",
        "drive.mount('/content/gdrive', force_remount=True)"
      ]
    },
    {
      "cell_type": "code",
      "source": [
        "import sys\n",
        "sys.path.append('/content/gdrive/MyDrive/Python/Polygon')"
      ],
      "metadata": {
        "id": "4SpLgH-jmBFh"
      },
      "execution_count": 2,
      "outputs": []
    },
    {
      "cell_type": "code",
      "source": [
        "from polygon import RegConvexPolygon\n",
        "from polygon_seq import PolygonSeq"
      ],
      "metadata": {
        "id": "hbjgTpuXmVis"
      },
      "execution_count": 3,
      "outputs": []
    },
    {
      "cell_type": "code",
      "source": [
        "p1 = RegConvexPolygon(4,2)"
      ],
      "metadata": {
        "id": "AHl9BuSJmYQJ"
      },
      "execution_count": 4,
      "outputs": []
    },
    {
      "cell_type": "code",
      "source": [
        "print(p1.num_vertices)\n",
        "print(p1.circumradius)\n",
        "print(p1.edge_length)\n",
        "print(p1.interior_angle)\n",
        "print(p1.apothem)\n",
        "print(p1.area)\n",
        "print(p1.perimeter)"
      ],
      "metadata": {
        "colab": {
          "base_uri": "https://localhost:8080/"
        },
        "id": "AUougpommoC5",
        "outputId": "e08a573c-6089-45d1-f2b1-fdab56932023"
      },
      "execution_count": 5,
      "outputs": [
        {
          "output_type": "stream",
          "name": "stdout",
          "text": [
            "4\n",
            "2\n",
            "2.82842712474619\n",
            "90.0\n",
            "1.4142135623730951\n",
            "8.0\n",
            "11.31370849898476\n"
          ]
        }
      ]
    },
    {
      "cell_type": "code",
      "source": [
        "p1 = RegConvexPolygon(10, 4)\n",
        "p2 = RegConvexPolygon(10, 4)\n",
        "p3 = RegConvexPolygon(100, 2)\n",
        "p4 = RegConvexPolygon(2, 100)\n",
        "p5 = RegConvexPolygon(10, 2)\n",
        "\n",
        "assert p1 == p2\n",
        "assert p1 != p5\n",
        "assert p3 > p4\n",
        "assert p3 > p2"
      ],
      "metadata": {
        "id": "Up8tTXsHmuD6"
      },
      "execution_count": 6,
      "outputs": []
    },
    {
      "cell_type": "code",
      "source": [
        "p = PolygonSeq(5, 2)"
      ],
      "metadata": {
        "id": "X4WoRNp8qjW7"
      },
      "execution_count": 7,
      "outputs": []
    },
    {
      "cell_type": "code",
      "source": [
        "p.max_efficiency"
      ],
      "metadata": {
        "colab": {
          "base_uri": "https://localhost:8080/",
          "height": 35
        },
        "id": "_1YvO28OqqB6",
        "outputId": "792a496c-c4d6-4f1e-c9a9-b060aa2428f8"
      },
      "execution_count": 8,
      "outputs": [
        {
          "output_type": "execute_result",
          "data": {
            "application/vnd.google.colaboratory.intrinsic+json": {
              "type": "string"
            },
            "text/plain": [
              "'Max ratio is 0.8090169943749475 with 5 vertices.'"
            ]
          },
          "metadata": {},
          "execution_count": 8
        }
      ]
    },
    {
      "cell_type": "code",
      "source": [
        "p = PolygonSeq(25, 2)"
      ],
      "metadata": {
        "id": "JK4i8RQqq2LZ"
      },
      "execution_count": 9,
      "outputs": []
    },
    {
      "cell_type": "code",
      "source": [
        "p.max_efficiency"
      ],
      "metadata": {
        "colab": {
          "base_uri": "https://localhost:8080/",
          "height": 35
        },
        "id": "FSpeB-3RrkME",
        "outputId": "46ce5e9d-1e17-4395-e1bf-474ea16a4529"
      },
      "execution_count": 10,
      "outputs": [
        {
          "output_type": "execute_result",
          "data": {
            "application/vnd.google.colaboratory.intrinsic+json": {
              "type": "string"
            },
            "text/plain": [
              "'Max ratio is 0.9921147013144779 with 25 vertices.'"
            ]
          },
          "metadata": {},
          "execution_count": 10
        }
      ]
    },
    {
      "cell_type": "code",
      "source": [
        "p"
      ],
      "metadata": {
        "colab": {
          "base_uri": "https://localhost:8080/"
        },
        "id": "PuMcSPqUrnPk",
        "outputId": "9b3b5b6b-b049-43fb-eb6c-e28e2bf12277"
      },
      "execution_count": 11,
      "outputs": [
        {
          "output_type": "execute_result",
          "data": {
            "text/plain": [
              "Polygon with 25 vertices and 2 as circumradius."
            ]
          },
          "metadata": {},
          "execution_count": 11
        }
      ]
    },
    {
      "cell_type": "code",
      "source": [
        ""
      ],
      "metadata": {
        "id": "EsOR2X9GrqC8"
      },
      "execution_count": null,
      "outputs": []
    }
  ]
}